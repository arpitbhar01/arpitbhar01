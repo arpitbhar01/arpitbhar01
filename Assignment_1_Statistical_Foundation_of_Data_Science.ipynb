{
  "nbformat": 4,
  "nbformat_minor": 0,
  "metadata": {
    "colab": {
      "provenance": [],
      "authorship_tag": "ABX9TyPiQQiXY40ZCvH7QbbAJEY/",
      "include_colab_link": true
    },
    "kernelspec": {
      "name": "python3",
      "display_name": "Python 3"
    },
    "language_info": {
      "name": "python"
    }
  },
  "cells": [
    {
      "cell_type": "markdown",
      "metadata": {
        "id": "view-in-github",
        "colab_type": "text"
      },
      "source": [
        "<a href=\"https://colab.research.google.com/github/arpitbhar01/arpitbhar01/blob/main/Assignment_1_Statistical_Foundation_of_Data_Science.ipynb\" target=\"_parent\"><img src=\"https://colab.research.google.com/assets/colab-badge.svg\" alt=\"Open In Colab\"/></a>"
      ]
    },
    {
      "cell_type": "markdown",
      "source": [
        "**Very Short Question**\n",
        "\n",
        "Q1 Explain the different types of Data Structures in Pandas.\n",
        "\n",
        "Ans- Pandas provide a range of data structures ,two primary data structures in pandas are **'Series' and 'DataFrame'**\n",
        "\n",
        "**Series** is like a column in a table , (1-D) One-dimensional array holding data of any type.\n",
        "(ex-integers, floats, strings,python ,etc.)\n",
        "\n",
        "**DataFrame** is a (2-D) Two-dimensional data structure, like a 2 dimensional array, or a table with rows and columns. It is the most commonly used data structure in Pandas.\n"
      ],
      "metadata": {
        "id": "Zde2TesAG-R5"
      }
    },
    {
      "cell_type": "code",
      "source": [
        "#Example Series\n",
        "\n",
        "import pandas as pd\n",
        "a = [1, 7, 2]\n",
        "myvar = pd.Series(a, index = [\"x\", \"y\", \"z\"])\n",
        "print(myvar)"
      ],
      "metadata": {
        "colab": {
          "base_uri": "https://localhost:8080/"
        },
        "collapsed": true,
        "id": "h4HQI9FlHd77",
        "outputId": "d8fcc1ed-8d45-4cf6-f473-60ce80954910"
      },
      "execution_count": null,
      "outputs": [
        {
          "output_type": "stream",
          "name": "stdout",
          "text": [
            "x    1\n",
            "y    7\n",
            "z    2\n",
            "dtype: int64\n"
          ]
        }
      ]
    },
    {
      "cell_type": "code",
      "source": [
        "#Example DataFrame\n",
        "data = {'A': [1, 2, 3],\n",
        "'B': [4, 5, 6],\n",
        "'C': [7, 8, 9]}\n",
        "df = pd.DataFrame(data)\n",
        "print(df)"
      ],
      "metadata": {
        "colab": {
          "base_uri": "https://localhost:8080/"
        },
        "collapsed": true,
        "id": "Wexi_mtzSobg",
        "outputId": "9482eae6-ea28-4598-c494-cf70b1b5db80"
      },
      "execution_count": null,
      "outputs": [
        {
          "output_type": "stream",
          "name": "stdout",
          "text": [
            "   A  B  C\n",
            "0  1  4  7\n",
            "1  2  5  8\n",
            "2  3  6  9\n"
          ]
        }
      ]
    },
    {
      "cell_type": "markdown",
      "source": [
        "Q2. What is re-indexing in Pandas? Explain with the example.\n",
        "\n",
        "Ans- re-indexing is used to change the index of rows and columns of a dataframe.\n",
        "re-indexing is also a powerful method in pandas that allows you to change the index to a new set of labels **(Each column has a name associated with it,known as a label)** ,by reordering, removing labels ,  adding , or by filling missing values."
      ],
      "metadata": {
        "id": "AYSAasYyTTqo"
      }
    },
    {
      "cell_type": "code",
      "source": [
        "#Example\n",
        "#Changing the Order of the Index\n",
        "import pandas as pd\n",
        "\n",
        "df = pd.DataFrame({\n",
        "    'A': [1, 2, 3],\n",
        "    'B': [4, 5, 6]\n",
        "}, index=['a', 'b', 'c'])\n",
        "\n",
        "df_reindexed = df.reindex(['c', 'a', 'b'])\n",
        "print(df_reindexed)"
      ],
      "metadata": {
        "colab": {
          "base_uri": "https://localhost:8080/"
        },
        "collapsed": true,
        "id": "KQzm0lPbZx5x",
        "outputId": "4eda9eaa-5b82-4bbb-8239-0d235dad81c7"
      },
      "execution_count": null,
      "outputs": [
        {
          "output_type": "stream",
          "name": "stdout",
          "text": [
            "   A  B\n",
            "c  3  6\n",
            "a  1  4\n",
            "b  2  5\n"
          ]
        }
      ]
    },
    {
      "cell_type": "code",
      "source": [
        "#Example\n",
        "\n",
        "import pandas as pd\n",
        "\n",
        "# Original DataFrame\n",
        "df = pd.DataFrame({\n",
        "    'A': [1, 2, 3],\n",
        "    'B': [4, 5, 6]\n",
        "},\n",
        "    index=['a', 'b', 'c'])\n",
        "\n",
        "# Adding new labels\n",
        "df_reindexed_add = df.reindex(['a', 'b', 'c', 'd'])\n",
        "print(\"DataFrame After Adding New Label:\")\n",
        "print(df_reindexed_add)\n",
        "\n",
        "# Removing labels\n",
        "df_reindexed_remove = df.reindex(['a', 'b'])\n",
        "print(\"\\nDataFrame After Removing Label:\")\n",
        "print(df_reindexed_remove)\n"
      ],
      "metadata": {
        "colab": {
          "base_uri": "https://localhost:8080/"
        },
        "collapsed": true,
        "id": "yZD_oevsajGn",
        "outputId": "280dfca2-01f6-430e-97c9-2f382a26e116"
      },
      "execution_count": null,
      "outputs": [
        {
          "output_type": "stream",
          "name": "stdout",
          "text": [
            "DataFrame After Adding New Label:\n",
            "     A    B\n",
            "a  1.0  4.0\n",
            "b  2.0  5.0\n",
            "c  3.0  6.0\n",
            "d  NaN  NaN\n",
            "\n",
            "DataFrame After Removing Label:\n",
            "   A  B\n",
            "a  1  4\n",
            "b  2  5\n"
          ]
        }
      ]
    },
    {
      "cell_type": "markdown",
      "source": [
        "Q3. Take a sample data and provide with the output how to compute mean. median, standard deviation, quantile in pandas.\n",
        "\n",
        "Ans- Below Codes.\n"
      ],
      "metadata": {
        "id": "-y0nJyJNbd4y"
      }
    },
    {
      "cell_type": "code",
      "source": [
        "import pandas as pd\n",
        "\n",
        "# Sample DataFrame\n",
        "data = {\n",
        "    'A': [12, 18, 25, 47, 53],\n",
        "    'B': [23, 15, 32, 41, 67],\n",
        "    'C': [6, 9, 12, 18, 24]\n",
        "}\n",
        "\n",
        "df = pd.DataFrame(data)\n",
        "\n",
        "print(\"Sample DataFrame\")\n",
        "print(df)\n"
      ],
      "metadata": {
        "colab": {
          "base_uri": "https://localhost:8080/"
        },
        "collapsed": true,
        "id": "MphOdQOLekPM",
        "outputId": "c5da4439-f2d5-4672-dcfc-689004dc37b1"
      },
      "execution_count": null,
      "outputs": [
        {
          "output_type": "stream",
          "name": "stdout",
          "text": [
            "Sample DataFrame\n",
            "    A   B   C\n",
            "0  12  23   6\n",
            "1  18  15   9\n",
            "2  25  32  12\n",
            "3  47  41  18\n",
            "4  53  67  24\n"
          ]
        }
      ]
    },
    {
      "cell_type": "code",
      "source": [
        "# Compute Mean\n",
        "mean_values = df.mean()\n",
        "\n",
        "print(\"\\nMean of each column\")\n",
        "print(mean_values)\n"
      ],
      "metadata": {
        "colab": {
          "base_uri": "https://localhost:8080/"
        },
        "collapsed": true,
        "id": "nRf2ws1deyBg",
        "outputId": "7df72518-d822-46c5-861f-63b07f49ca74"
      },
      "execution_count": null,
      "outputs": [
        {
          "output_type": "stream",
          "name": "stdout",
          "text": [
            "\n",
            "Mean of each column:\n",
            "A    31.0\n",
            "B    35.6\n",
            "C    13.8\n",
            "dtype: float64\n"
          ]
        }
      ]
    },
    {
      "cell_type": "code",
      "source": [
        "# Compute Median\n",
        "median_values = df.median()\n",
        "\n",
        "print(\"\\nMedian of each column\")\n",
        "print(median_values)\n"
      ],
      "metadata": {
        "colab": {
          "base_uri": "https://localhost:8080/"
        },
        "collapsed": true,
        "id": "lfnFaniqfDFO",
        "outputId": "c94dc61e-4e4e-49d8-906e-330dbed4906b"
      },
      "execution_count": null,
      "outputs": [
        {
          "output_type": "stream",
          "name": "stdout",
          "text": [
            "\n",
            "Median of each column\n",
            "A    25.0\n",
            "B    32.0\n",
            "C    12.0\n",
            "dtype: float64\n"
          ]
        }
      ]
    },
    {
      "cell_type": "code",
      "source": [
        "# Standard Deviation\n",
        "std_values = df.std()\n",
        "\n",
        "print(\"\\nStandard Deviation\")\n",
        "print(std_values)\n"
      ],
      "metadata": {
        "colab": {
          "base_uri": "https://localhost:8080/"
        },
        "collapsed": true,
        "id": "R8wMkZbUfLEL",
        "outputId": "c0815bee-ffe0-4de8-a09d-0abda99d559b"
      },
      "execution_count": null,
      "outputs": [
        {
          "output_type": "stream",
          "name": "stdout",
          "text": [
            "\n",
            "Standard Deviation\n",
            "A    18.069311\n",
            "B    20.069878\n",
            "C     7.224957\n",
            "dtype: float64\n"
          ]
        }
      ]
    },
    {
      "cell_type": "code",
      "source": [
        "# Compute Quantiles\n",
        "quantiles = df.quantile([0.25, 0.5, 0.75])\n",
        "\n",
        "print(\"\\nQuantiles of each column\")\n",
        "print(quantiles)\n"
      ],
      "metadata": {
        "colab": {
          "base_uri": "https://localhost:8080/"
        },
        "collapsed": true,
        "id": "Z2wkZlmkfeB6",
        "outputId": "c460dc46-5ab4-47e6-cbcd-f06ba81ed8a4"
      },
      "execution_count": null,
      "outputs": [
        {
          "output_type": "stream",
          "name": "stdout",
          "text": [
            "\n",
            "Quantiles of each column\n",
            "         A     B     C\n",
            "0.25  18.0  23.0   9.0\n",
            "0.50  25.0  32.0  12.0\n",
            "0.75  47.0  41.0  18.0\n"
          ]
        }
      ]
    },
    {
      "cell_type": "markdown",
      "source": [
        "Q-4.  What is the difference between ndarray and array in Numpy? How would you convert Panda dataframe into Numpy array?\n",
        "\n",
        "Ans- **ndarray**\n",
        "\n",
        "represents multidimensional array object of homogenous data type, a powerful and efficient way to store and manipulate numerical data.\n",
        "and also offers a wide range of methods and attributes to perform mathematical operations.\n",
        "\n",
        "**Array**\n",
        "\n",
        "Array is a function in NumPy library which is used to create ndarray objects.**ndarray** as the class and **array** as the constructor for that class.\n",
        "\n",
        "There are several ways to convert a Pandas DataFrame into a NumPy array\n",
        "\n",
        "1) Using the values attribute\n",
        "\n",
        "2) Using the to_numpy() method\n",
        "\n",
        "3) Using the as_matrix() method\n",
        "\n"
      ],
      "metadata": {
        "id": "ucscJBR8lvkp"
      }
    },
    {
      "cell_type": "markdown",
      "source": [
        "Q-5.What is the difference between test[ : , 0] and test [ : , [0]]? Explain with example the difference between Vectorisation and Broadcasting in NumPy?"
      ],
      "metadata": {
        "id": "t5DJQu4XmVbM"
      }
    },
    {
      "cell_type": "markdown",
      "source": [
        "**Short Question**\n",
        "\n",
        "Q1. What is the difference seaborn and matplotlib?\n",
        "\n",
        "Ans-\n",
        "\n",
        "**Matplotlib**\n",
        "\n",
        "Python library used for plotting graphs using Numpy and Pandas. A effective and a powerful python data visualisation tool. Datasets are visualized with the help of bar graphs, histograms, pie charts, scatter plots, lines, and so on. Matplotlib works efficiently with data frames and arrays.It uses comparatively complex and lengthy syntax.\n",
        "\n",
        "\n",
        "**Seaborn**\n",
        "\n",
        "It is also a Python library used for plotting graphs with the help of Matplotlib, Pandas, and Numpy. It is considered as a superset of the Matplotlib. It helps in visualizing univariate and bivariate data. It acts as an important tool in picturing Linear Regression Models. It serves in making graphs of statical Time-Series data.\n",
        "\n",
        "\n"
      ],
      "metadata": {
        "id": "5g-N4IIixXUE"
      }
    },
    {
      "cell_type": "markdown",
      "source": [
        "Q-2 Explain in details which sampling technique will beest for the given problem : \"A local hotel chain intends to survey its visitors one day, so they randomly sent out questionnaires that day and surveyed every visitor on the venue.\" You reason should have at least 2 points.\n",
        "\n",
        "Ans- The sampling technique used by the local hotel chain is **convenience sampling** which is a part of **probabilistic sampling**.\n",
        "\n",
        "1) Convenience sampling allows for immediate data collection, which can be important for time-sensitive research or decision-making.\n",
        "\n",
        "2) It doesn't require a complex sampling or extra effort to identify and contact potential participants.\n",
        "\n",
        "3) By surveying visitors, the hotel chain can identify potential areas of concern that may require further investigation through more attentive sampling methods.\n",
        "\n",
        "4) It also reduce the sample bias, It also leads to higher-quality data collection as the sample appropriately represents the population.\n",
        "\n",
        "\n",
        "\n",
        "\n"
      ],
      "metadata": {
        "id": "i3ZtLRLpw9yE"
      }
    },
    {
      "cell_type": "code",
      "source": [],
      "metadata": {
        "id": "lFxeOSW7z1hg"
      },
      "execution_count": null,
      "outputs": []
    }
  ]
}